{
 "cells": [
  {
   "cell_type": "code",
   "execution_count": 12,
   "metadata": {},
   "outputs": [
    {
     "name": "stdout",
     "output_type": "stream",
     "text": [
      "Reporte completo:\n",
      "    Total combustible: 63.333333333333336\n",
      "    comb1:80\n",
      "    comb2:50\n",
      "    comb3:60\n",
      "    \n"
     ]
    }
   ],
   "source": [
    "# Ejercicio 1\n",
    "def promedio(values):\n",
    "    total = sum(values)\n",
    "    cantida_comb = len(values)\n",
    "    return total/cantida_comb\n",
    "\n",
    "\n",
    "def combustible(comb1, comb2, comb3):\n",
    "    return f\"\"\"Reporte completo:\n",
    "    Total combustible: {promedio([comb1,comb2,comb3])}\n",
    "    comb1:{comb1}\n",
    "    comb2:{comb2}\n",
    "    comb3:{comb3}\n",
    "    \"\"\"\n",
    "\n",
    "\n",
    "print(combustible(80, 50, 60))\n"
   ]
  },
  {
   "cell_type": "code",
   "execution_count": 1,
   "metadata": {},
   "outputs": [
    {
     "name": "stdout",
     "output_type": "stream",
     "text": [
      "\n",
      "    Mision a  Moon\n",
      "    Total tiempo de viaje: 65 minutos\n",
      "    Total comb: 500000 galones\n",
      "    \n",
      "-------------------------------------------------------------------\n",
      "\n",
      "    Mision a Moon\n",
      "    Total de tiempo:45\n",
      "    Total de combustible:45000\n",
      "    ('prin', 20000) galones ('exter', 25000) galones \n"
     ]
    }
   ],
   "source": [
    "# Ejercicios 2\n",
    "def reporte_general(prelanzamiento, tiemp_v, destino, tanq_ex, tanq_int):\n",
    "    return f\"\"\"\n",
    "    Mision a  {destino}\n",
    "    Total tiempo de viaje: {prelanzamiento+ tiemp_v} minutos\n",
    "    Total comb: {tanq_ex + tanq_int} galones\n",
    "    \"\"\"\n",
    "\n",
    "\n",
    "print(reporte_general(14, 51, \"Moon\", 200000, 300000))\n",
    "espacio = f\"\"\"-------------------------------------------------------------------\"\"\"\n",
    "print(espacio)\n",
    "\n",
    "# Funcion Final\n",
    "\n",
    "\n",
    "def reporte_general1(destino, *minutes, **fuel_reservoirs):\n",
    "    reporte_final = f\"\"\"\n",
    "    Mision a {destino}\n",
    "    Total de tiempo:{sum(minutes)}\n",
    "    Total de combustible:{sum(fuel_reservoirs.values())}\n",
    "    \"\"\"\n",
    "    for tanq_nombre in fuel_reservoirs.items():\n",
    "        reporte_final += f\"{tanq_nombre} galones \"\n",
    "    return reporte_final\n",
    "\n",
    "\n",
    "print(reporte_general1(\"Moon\", 10, 15, 20, prin=20000, exter=25000))\n"
   ]
  }
 ],
 "metadata": {
  "interpreter": {
   "hash": "b89b5cfaba6639976dc87ff2fec6d58faec662063367e2c229c520fe71072417"
  },
  "kernelspec": {
   "display_name": "Python 3.10.2 64-bit",
   "language": "python",
   "name": "python3"
  },
  "language_info": {
   "codemirror_mode": {
    "name": "ipython",
    "version": 3
   },
   "file_extension": ".py",
   "mimetype": "text/x-python",
   "name": "python",
   "nbconvert_exporter": "python",
   "pygments_lexer": "ipython3",
   "version": "3.10.2"
  },
  "orig_nbformat": 4
 },
 "nbformat": 4,
 "nbformat_minor": 2
}
