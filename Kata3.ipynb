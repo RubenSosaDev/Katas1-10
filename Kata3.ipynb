{
 "cells": [
  {
   "cell_type": "code",
   "execution_count": 25,
   "metadata": {},
   "outputs": [
    {
     "name": "stdout",
     "output_type": "stream",
     "text": [
      "Advertencia, asteroide acercandose\n"
     ]
    }
   ],
   "source": [
    "#Ejercicio 1\n",
    "asteroide =49\n",
    "vs=25\n",
    "if(asteroide >= vs):\n",
    "    print(\"Advertencia, asteroide acercandose\")\n",
    "else:\n",
    "    print(\"No te preocupes\")"
   ]
  },
  {
   "cell_type": "code",
   "execution_count": 15,
   "metadata": {},
   "outputs": [
    {
     "name": "stdout",
     "output_type": "stream",
     "text": [
      "!No te preocupes , no hay peligro\n"
     ]
    }
   ],
   "source": [
    "#Ejercicio 2 sin elif\n",
    "asteroide =19\n",
    "velocidad =20\n",
    "if(asteroide >= velocidad):\n",
    "    print(\"Revisa el cielo se muestra una luz\")\n",
    "else:\n",
    "    print(\"!No te preocupes , no hay peligro\")"
   ]
  },
  {
   "cell_type": "code",
   "execution_count": 17,
   "metadata": {},
   "outputs": [
    {
     "name": "stdout",
     "output_type": "stream",
     "text": [
      "!No te preocupes , no hay peligro\n"
     ]
    }
   ],
   "source": [
    "#Ejercicio 2 con elif\n",
    "asteroide =19\n",
    "velocidad =20\n",
    "if(asteroide > velocidad):\n",
    "    print(\"Revisa el cielo se muestra una luz\")\n",
    "elif(asteroide == velocidad):\n",
    "    print(\"Revisa el cielo se muestra una luz\")\n",
    "else:\n",
    "    print(\"!No te preocupes , no hay peligro\")"
   ]
  },
  {
   "cell_type": "code",
   "execution_count": 24,
   "metadata": {},
   "outputs": [
    {
     "name": "stdout",
     "output_type": "stream",
     "text": [
      "Advertencia, Asteroide entrando en orbita\n"
     ]
    }
   ],
   "source": [
    "#Ejercicio 3\n",
    "tamaño_asteroide=49\n",
    "velocidad_asteroide = 55\n",
    "if(tamaño_asteroide >25 and velocidad_asteroide >25):\n",
    "    print(\"Advertencia, Asteroide entrando en orbita\")\n",
    "elif(velocidad_asteroide>=25):\n",
    "    print(\"Revisa el cielo, !Hay una luz en el\")\n",
    "elif(tamaño_asteroide<25):\n",
    "    print(\"Sin preocupacion de asteroides\")\n",
    "else:\n",
    "    print(\"Sin preocupacion de asteroide\")"
   ]
  }
 ],
 "metadata": {
  "interpreter": {
   "hash": "b89b5cfaba6639976dc87ff2fec6d58faec662063367e2c229c520fe71072417"
  },
  "kernelspec": {
   "display_name": "Python 3.10.2 64-bit",
   "language": "python",
   "name": "python3"
  },
  "language_info": {
   "codemirror_mode": {
    "name": "ipython",
    "version": 3
   },
   "file_extension": ".py",
   "mimetype": "text/x-python",
   "name": "python",
   "nbconvert_exporter": "python",
   "pygments_lexer": "ipython3",
   "version": "3.10.2"
  },
  "orig_nbformat": 4
 },
 "nbformat": 4,
 "nbformat_minor": 2
}
