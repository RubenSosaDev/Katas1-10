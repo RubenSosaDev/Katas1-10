{
 "cells": [
  {
   "cell_type": "code",
   "execution_count": 10,
   "metadata": {},
   "outputs": [
    {
     "name": "stdout",
     "output_type": "stream",
     "text": [
      "Mars 2 moons\n",
      "Mars su circuferencia es 6752 km\n"
     ]
    }
   ],
   "source": [
    "#Ejercicio 1\n",
    "\n",
    "planet={\n",
    "    'name':'Mars',\n",
    "    'moons':'2'\n",
    "}\n",
    "\n",
    "print(f'{planet[\"name\"]} {planet[\"moons\"]} moons')\n",
    "\n",
    "planet['circuferencia (km)'] = {\n",
    "    'polar': 6752,\n",
    "    'equatorial': 6792\n",
    "}\n",
    "print(f'{planet[\"name\"]} su circuferencia es {planet[\"circuferencia (km)\"][\"polar\"]} km')\n"
   ]
  },
  {
   "cell_type": "code",
   "execution_count": 11,
   "metadata": {},
   "outputs": [
    {
     "name": "stdout",
     "output_type": "stream",
     "text": [
      "17.833333333333332\n",
      "promedio redondeado 18\n"
     ]
    }
   ],
   "source": [
    "#Ejercicio 2\n",
    "planet_moons = {\n",
    "    'mercury': 0,\n",
    "    'venus': 0,\n",
    "    'earth': 1,\n",
    "    'mars': 2,\n",
    "    'jupiter': 79,\n",
    "    'saturn': 82,\n",
    "    'uranus': 27,\n",
    "    'neptune': 14,\n",
    "    'pluto': 5,\n",
    "    'haumea': 2,\n",
    "    'makemake': 1,\n",
    "    'eris': 1\n",
    "}\n",
    "moons = planet_moons.values()\n",
    "planets = len(planet_moons.keys())\n",
    "\n",
    "total_moons = 0\n",
    "for luna in moons:\n",
    "    total_moons = total_moons + luna\n",
    "\n",
    "\n",
    "promedio = total_moons / planets\n",
    "\n",
    "print(promedio)\n",
    "print(\"promedio redondeado\",round(promedio))"
   ]
  }
 ],
 "metadata": {
  "interpreter": {
   "hash": "b89b5cfaba6639976dc87ff2fec6d58faec662063367e2c229c520fe71072417"
  },
  "kernelspec": {
   "display_name": "Python 3.10.2 64-bit",
   "language": "python",
   "name": "python3"
  },
  "language_info": {
   "codemirror_mode": {
    "name": "ipython",
    "version": 3
   },
   "file_extension": ".py",
   "mimetype": "text/x-python",
   "name": "python",
   "nbconvert_exporter": "python",
   "pygments_lexer": "ipython3",
   "version": "3.10.2"
  },
  "orig_nbformat": 4
 },
 "nbformat": 4,
 "nbformat_minor": 2
}
