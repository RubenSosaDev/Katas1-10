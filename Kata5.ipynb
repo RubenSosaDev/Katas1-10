{
 "cells": [
  {
   "cell_type": "code",
   "execution_count": 3,
   "metadata": {},
   "outputs": [
    {
     "name": "stdout",
     "output_type": "stream",
     "text": [
      "628949330\n",
      "390577534\n"
     ]
    }
   ],
   "source": [
    "#Ejercicio 1\n",
    "from math import ceil\n",
    "planeta1= 149597870 \n",
    "planeta2= 778547200 \n",
    "\n",
    "distancia_km= planeta2 - planeta1\n",
    "print(distancia_km)\n",
    "\n",
    "millas= distancia_km*0.621\n",
    "print(ceil(millas))"
   ]
  },
  {
   "cell_type": "code",
   "execution_count": 4,
   "metadata": {},
   "outputs": [
    {
     "name": "stdout",
     "output_type": "stream",
     "text": [
      "31236300.0\n"
     ]
    }
   ],
   "source": [
    "#Ejercico 2\n",
    "distancia_primera=input(\"Proporciona la distancia del sol  al primer planeta\")\n",
    "distancia_segunda=input(\"Proporcione la distancia del sol al segundo planeta\")\n",
    "\n",
    "planeta1=int(distancia_primera)\n",
    "planeta2=int(distancia_segunda)\n",
    "\n",
    "distancia=planeta1-planeta2\n",
    "distancia_millas=distancia *0.621\n",
    "print(abs(distancia_millas))"
   ]
  }
 ],
 "metadata": {
  "interpreter": {
   "hash": "b89b5cfaba6639976dc87ff2fec6d58faec662063367e2c229c520fe71072417"
  },
  "kernelspec": {
   "display_name": "Python 3.10.2 64-bit",
   "language": "python",
   "name": "python3"
  },
  "language_info": {
   "codemirror_mode": {
    "name": "ipython",
    "version": 3
   },
   "file_extension": ".py",
   "mimetype": "text/x-python",
   "name": "python",
   "nbconvert_exporter": "python",
   "pygments_lexer": "ipython3",
   "version": "3.10.2"
  },
  "orig_nbformat": 4
 },
 "nbformat": 4,
 "nbformat_minor": 2
}
