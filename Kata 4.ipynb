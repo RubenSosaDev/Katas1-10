{
 "cells": [
  {
   "cell_type": "code",
   "execution_count": 10,
   "metadata": {},
   "outputs": [
    {
     "data": {
      "text/plain": [
       "['Interesting facts about the Moon',\n",
       " \" The Moon is Earth's only satellite\",\n",
       " ' There are several interesting facts about the Moon and how it affects life here on Earth',\n",
       " '  \\nOn average, the Moon moves 4cm away from the Earth every year',\n",
       " ' This yearly drift is not significant enough to cause immediate effects on Earth',\n",
       " ' The highest daylight temperature of the Moon is 127 C',\n",
       " '']"
      ]
     },
     "execution_count": 10,
     "metadata": {},
     "output_type": "execute_result"
    }
   ],
   "source": [
    "#punto 1\n",
    "text = \"\"\"Interesting facts about the Moon. The Moon is Earth's only satellite. There are several interesting facts about the Moon and how it affects life here on Earth.  \n",
    "On average, the Moon moves 4cm away from the Earth every year. This yearly drift is not significant enough to cause immediate effects on Earth. The highest daylight temperature of the Moon is 127 C.\"\"\"\n",
    "\n",
    "partes = text.split(\".\")\n",
    "partes\n",
    "\n",
    "\n"
   ]
  },
  {
   "cell_type": "code",
   "execution_count": 12,
   "metadata": {},
   "outputs": [
    {
     "name": "stdout",
     "output_type": "stream",
     "text": [
      "  \n",
      "On average, the Moon moves 4cm away from the Earth every year\n",
      " The highest daylight temperature of the Moon is 127 Celsius\n"
     ]
    }
   ],
   "source": [
    "#puntos 2 , 3, 4\n",
    "text = \"\"\"Interesting facts about the Moon. The Moon is Earth's only satellite. There are several interesting facts about the Moon and how it affects life here on Earth.  \n",
    "On average, the Moon moves 4cm away from the Earth every year. This yearly drift is not significant enough to cause immediate effects on Earth. The highest daylight temperature of the Moon is 127 C.\"\"\"\n",
    "\n",
    "partes = text.split(\".\")\n",
    "palabras_clave=[\"average\",\"distance\",\"temperature\"]\n",
    "\n",
    "for n in partes:\n",
    "    for clave in palabras_clave:\n",
    "        if clave in n:\n",
    "            print(n.replace(\"C\",\"Celsius\"))\n",
    "            break\n",
    "        else:(\"No se encontraron datos relaciones\")"
   ]
  },
  {
   "cell_type": "code",
   "execution_count": 34,
   "metadata": {},
   "outputs": [
    {
     "name": "stdout",
     "output_type": "stream",
     "text": [
      "Datos Sobre La Gravedad De Ganímedes.\n",
      "-------------------------------------------------- \n",
      "Nombre del planeta: Marte \n",
      "Gravedad en Ganímedes: 1.4300000000000002 m/s2 \n",
      "\n",
      "\n",
      "Datos sobre la graviedad de Ganímedes\n",
      "Nombre del planeta:Marte\n",
      "Gravedad en Ganímedes: 1.4300000000000002\n",
      "\n"
     ]
    }
   ],
   "source": [
    "# Ejercicio 2\n",
    "name = \"Ganímedes\"\n",
    "gravity = 0.00143 # in kms\n",
    "planet = \"Marte\"\n",
    "\n",
    "#Titulo\n",
    "titulo=f'Datos sobre la gravedad de {name}.'\n",
    "print(titulo.title())\n",
    "\n",
    "#plantilla\n",
    "plantilla = f\"\"\"{'-'*50} \n",
    "Nombre del planeta: {planet} \n",
    "Gravedad en {name}: {gravity * 1000} m/s2 \n",
    "\"\"\"\n",
    "#Union de cadenas\n",
    "union=f\"\"\"{titulo.title()}\n",
    "{plantilla}\"\"\"\n",
    "print(plantilla)\n",
    "\n",
    "#Nueva Plantilla\n",
    "nueva_plantilla=\"\"\"\n",
    "Datos sobre la graviedad de {name}\n",
    "Nombre del planeta:{planet}\n",
    "Gravedad en {name}: {gravity}\n",
    "\"\"\"\n",
    "print(nueva_plantilla.format(name=name,planet=planet,gravity=gravity*1000))"
   ]
  }
 ],
 "metadata": {
  "interpreter": {
   "hash": "b89b5cfaba6639976dc87ff2fec6d58faec662063367e2c229c520fe71072417"
  },
  "kernelspec": {
   "display_name": "Python 3.10.2 64-bit",
   "language": "python",
   "name": "python3"
  },
  "language_info": {
   "codemirror_mode": {
    "name": "ipython",
    "version": 3
   },
   "file_extension": ".py",
   "mimetype": "text/x-python",
   "name": "python",
   "nbconvert_exporter": "python",
   "pygments_lexer": "ipython3",
   "version": "3.10.2"
  },
  "orig_nbformat": 4
 },
 "nbformat": 4,
 "nbformat_minor": 2
}
