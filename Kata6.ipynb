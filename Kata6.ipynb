{
 "cells": [
  {
   "cell_type": "code",
   "execution_count": 13,
   "metadata": {},
   "outputs": [
    {
     "name": "stdout",
     "output_type": "stream",
     "text": [
      "El total de planetas es 8\n",
      "El total actual de planetas es 9\n",
      "El ultimo planeta es  Pluto\n"
     ]
    }
   ],
   "source": [
    "# Ejercicio 1\n",
    "planets = ['Mercury', 'Venus', 'Earth', 'Mars',\n",
    "           'Jupiter', 'Saturn', 'Uranus', 'Neptune']\n",
    "\n",
    "print(\"El total de planetas es\", len(planets))\n",
    "\n",
    "planets.append('Pluto')\n",
    "print(\"El total actual de planetas es\", len(planets))\n",
    "print(\"El ultimo planeta es \", planets[-1])\n"
   ]
  },
  {
   "cell_type": "code",
   "execution_count": 19,
   "metadata": {},
   "outputs": [
    {
     "name": "stdout",
     "output_type": "stream",
     "text": [
      "El planeta Saturn  esta en la posicion 5\n",
      "Planetas más cercanos al sol son:\n",
      "['Mercury', 'Venus', 'Earth', 'Mars', 'Jupiter']\n",
      "Planetas mas alejados al sol son:\n",
      "Neptune\n"
     ]
    }
   ],
   "source": [
    "# Ejercicio 2\n",
    "planets = ['Mercury', 'Venus', 'Earth', 'Mars', 'Jupiter', 'Saturn', 'Neptune']\n",
    "\n",
    "planeta = input(\n",
    "    \"Ingrese el nombre de un planeta iniciando con mayuscula su nombre\")\n",
    "\n",
    "p_index = planets.index(planeta)\n",
    "print(\"El planeta\", planeta, \" esta en la posicion\", p_index)\n",
    "\n",
    "# Planetas más cercanos al sol\n",
    "\n",
    "print(\"Planetas más cercanos al sol son:\")\n",
    "print(planets[0:p_index])\n",
    "\n",
    "# Planetas mas alejados al sol\n",
    "\n",
    "print(\"Planetas mas alejados al sol son:\")\n",
    "print(planets[p_index+1])\n"
   ]
  }
 ],
 "metadata": {
  "interpreter": {
   "hash": "b89b5cfaba6639976dc87ff2fec6d58faec662063367e2c229c520fe71072417"
  },
  "kernelspec": {
   "display_name": "Python 3.10.2 64-bit",
   "language": "python",
   "name": "python3"
  },
  "language_info": {
   "codemirror_mode": {
    "name": "ipython",
    "version": 3
   },
   "file_extension": ".py",
   "mimetype": "text/x-python",
   "name": "python",
   "nbconvert_exporter": "python",
   "pygments_lexer": "ipython3",
   "version": "3.10.2"
  },
  "orig_nbformat": 4
 },
 "nbformat": 4,
 "nbformat_minor": 2
}
